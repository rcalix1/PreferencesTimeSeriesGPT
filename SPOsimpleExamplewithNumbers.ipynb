{
 "cells": [
  {
   "cell_type": "markdown",
   "id": "0de4d2d6",
   "metadata": {},
   "source": [
    "\n",
    "## SPO example\n"
   ]
  },
  {
   "cell_type": "code",
   "execution_count": 20,
   "id": "3e589cf8",
   "metadata": {},
   "outputs": [],
   "source": [
    "\n",
    "import numpy as np\n"
   ]
  },
  {
   "cell_type": "code",
   "execution_count": 21,
   "id": "f8b96680",
   "metadata": {},
   "outputs": [],
   "source": [
    "\n",
    "pref = 0.2\n",
    "\n",
    "rej  = 0.8\n"
   ]
  },
  {
   "cell_type": "code",
   "execution_count": 22,
   "id": "221ecac7",
   "metadata": {},
   "outputs": [],
   "source": [
    "\n",
    "T = 0.1\n"
   ]
  },
  {
   "cell_type": "code",
   "execution_count": 23,
   "id": "0b484083",
   "metadata": {},
   "outputs": [],
   "source": [
    "\n",
    "logits = np.array([-pref/T, -rej/T])\n"
   ]
  },
  {
   "cell_type": "code",
   "execution_count": 24,
   "id": "b0da5ca9",
   "metadata": {},
   "outputs": [
    {
     "data": {
      "text/plain": [
       "array([-2., -8.])"
      ]
     },
     "execution_count": 24,
     "metadata": {},
     "output_type": "execute_result"
    }
   ],
   "source": [
    "\n",
    "logits\n"
   ]
  },
  {
   "cell_type": "code",
   "execution_count": 25,
   "id": "62b83d03",
   "metadata": {},
   "outputs": [],
   "source": [
    "\n",
    "\n",
    "\n",
    "def softmax(logits):\n",
    "\n",
    "    exps = np.exp(logits - np.max(logits))  \n",
    "    return exps / np.sum(exps)\n",
    "\n"
   ]
  },
  {
   "cell_type": "code",
   "execution_count": 26,
   "id": "77b50c3c",
   "metadata": {},
   "outputs": [
    {
     "data": {
      "text/plain": [
       "array([0.99752738, 0.00247262])"
      ]
     },
     "execution_count": 26,
     "metadata": {},
     "output_type": "execute_result"
    }
   ],
   "source": [
    "\n",
    "soft_res = softmax(logits)\n",
    "soft_res\n"
   ]
  },
  {
   "cell_type": "code",
   "execution_count": 27,
   "id": "70ffc7bb",
   "metadata": {},
   "outputs": [
    {
     "data": {
      "text/plain": [
       "0.0024756851377303315"
      ]
     },
     "execution_count": 27,
     "metadata": {},
     "output_type": "execute_result"
    }
   ],
   "source": [
    "\n",
    "loss = -(    1*np.log(  soft_res[0]  ) + 0*np.log(  soft_res[1]  )         )\n",
    "loss \n"
   ]
  },
  {
   "cell_type": "code",
   "execution_count": null,
   "id": "9f4a4b0c",
   "metadata": {},
   "outputs": [],
   "source": []
  },
  {
   "cell_type": "code",
   "execution_count": null,
   "id": "93b48ba7",
   "metadata": {},
   "outputs": [],
   "source": []
  },
  {
   "cell_type": "code",
   "execution_count": null,
   "id": "22ac646a",
   "metadata": {},
   "outputs": [],
   "source": []
  },
  {
   "cell_type": "code",
   "execution_count": null,
   "id": "0033669a",
   "metadata": {},
   "outputs": [],
   "source": []
  },
  {
   "cell_type": "code",
   "execution_count": null,
   "id": "978c552d",
   "metadata": {},
   "outputs": [],
   "source": []
  },
  {
   "cell_type": "code",
   "execution_count": null,
   "id": "789c21e1",
   "metadata": {},
   "outputs": [],
   "source": []
  },
  {
   "cell_type": "code",
   "execution_count": null,
   "id": "62213075",
   "metadata": {},
   "outputs": [],
   "source": []
  }
 ],
 "metadata": {
  "kernelspec": {
   "display_name": "Python 3 (ipykernel)",
   "language": "python",
   "name": "python3"
  },
  "language_info": {
   "codemirror_mode": {
    "name": "ipython",
    "version": 3
   },
   "file_extension": ".py",
   "mimetype": "text/x-python",
   "name": "python",
   "nbconvert_exporter": "python",
   "pygments_lexer": "ipython3",
   "version": "3.7.16"
  }
 },
 "nbformat": 4,
 "nbformat_minor": 5
}
